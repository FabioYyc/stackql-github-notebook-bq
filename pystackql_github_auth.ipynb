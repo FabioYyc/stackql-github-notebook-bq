{
 "cells": [
  {
   "cell_type": "code",
   "execution_count": null,
   "metadata": {},
   "outputs": [],
   "source": [
    "import os\n",
    "import base64\n",
    "github_token= 'Your github token'\n",
    "\n",
    "## it needs to be base64 encoded\n",
    "github_creds = base64.b64encode(bytes(github_token, encoding='utf-8')).decode()\n",
    "os.environ['GITHUB_CREDS'] = github_creds\n",
    "auth = { \n",
    "    \"github\": \n",
    "      { \"type\": \"basic\", \"credentialsenvvar\": \"GITHUB_CREDS\" }\n",
    "}\n",
    "iql = StackQL(auth=json.dumps(auth))"
   ]
  }
 ],
 "metadata": {
  "interpreter": {
   "hash": "5eebb536a5ca28300091dc599be745b2f40a81d058ac41207a1903431999abf8"
  },
  "kernelspec": {
   "display_name": "Python 3.8.9 ('venv': venv)",
   "language": "python",
   "name": "python3"
  },
  "language_info": {
   "codemirror_mode": {
    "name": "ipython",
    "version": 3
   },
   "file_extension": ".py",
   "mimetype": "text/x-python",
   "name": "python",
   "nbconvert_exporter": "python",
   "pygments_lexer": "ipython3",
   "version": "3.8.9"
  },
  "orig_nbformat": 4
 },
 "nbformat": 4,
 "nbformat_minor": 2
}
