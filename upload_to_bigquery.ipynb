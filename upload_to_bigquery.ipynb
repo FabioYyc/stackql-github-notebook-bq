{
 "cells": [
  {
   "cell_type": "code",
   "execution_count": null,
   "metadata": {},
   "outputs": [],
   "source": [
    "activities.to_json('user-activities.json', orient='records', lines=True) ##save as new line delimited json"
   ]
  },
  {
   "cell_type": "code",
   "execution_count": null,
   "metadata": {},
   "outputs": [],
   "source": [
    "from google.cloud import bigquery\n",
    "\n",
    "PROJECT='storyscore-356114' #replace with your project id\n",
    "os.environ['GOOGLE_APPLICATION_CREDENTIALS'] = 'service-key.json' ##replace it with path to your key file\n",
    "\n",
    "\n",
    "def get_table_ref(client: bigquery.Client, dataset_id, table_id):\n",
    "    dataset_ref = client.dataset(dataset_id)\n",
    "    table_ref = dataset_ref.table(table_id)\n",
    "    return table_ref\n",
    "\n",
    "\n",
    "def create_load_job_config(job_type='WRITE_TRUNCATE'):\n",
    "    return bigquery.LoadJobConfig(\n",
    "    write_disposition=job_type,\n",
    "    source_format=bigquery.SourceFormat.NEWLINE_DELIMITED_JSON,\n",
    "    autodetect=True\n",
    "    )\n",
    "\n",
    "def upload_json(filename: str, dataset_id: str, table_id: str, config):\n",
    "    print('uploading table: %s'%(table_id))\n",
    "    client = bigquery.Client(project=PROJECT)\n",
    "    table_ref = get_table_ref(client, dataset_id, table_id)\n",
    "    with open(filename, \"rb\") as source_file:\n",
    "        job = client.load_table_from_file(\n",
    "            source_file, table_ref, job_config=config\n",
    "        )  # Make an API request.\n",
    "        job.result()  # Wait for the job to complete.;\n",
    "    table = client.get_table(table_ref)  # Make an API request.\n",
    "    print(\n",
    "        \"Loaded {} rows and {} columns to {}\".format(\n",
    "            table.num_rows, len(table.schema), table_id\n",
    "        )\n",
    "    )\n",
    "\n",
    "def upload_user_activity(filename: str):\n",
    "    dataset = 'github_user_activity'\n",
    "    table_name = 'user_activity'\n",
    "    config = create_load_job_config()\n",
    "    upload_json(filename=filename, dataset_id=dataset, table_id=table_name, config= config)\n",
    "    return\n"
   ]
  },
  {
   "cell_type": "code",
   "execution_count": null,
   "metadata": {},
   "outputs": [],
   "source": [
    "upload_user_activity('./user-activities.json')"
   ]
  }
 ],
 "metadata": {
  "language_info": {
   "name": "python"
  },
  "orig_nbformat": 4
 },
 "nbformat": 4,
 "nbformat_minor": 2
}
