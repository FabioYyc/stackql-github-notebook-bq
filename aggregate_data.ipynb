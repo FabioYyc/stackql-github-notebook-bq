{
 "cells": [
  {
   "cell_type": "code",
   "execution_count": null,
   "metadata": {},
   "outputs": [],
   "source": [
    "def aggregate_user_activity (row, commits: pd.DataFrame,  reviews: pd.DataFrame, pull_requests: pd.DataFrame):\n",
    "    username = row['username']\n",
    "    row['commits'] = commits[commits['username'] == username]\n",
    "    row['pull_requests'] = pull_requests[pull_requests['username'] == username]\n",
    "    row['reviews'] = reviews[reviews['username'] == username]\n",
    "    return row\n",
    "\n",
    "def get_user_activity(users: pd.DataFrame, commits: pd.DataFrame,  reviews: pd.DataFrame, pull_requests: pd.DataFrame, owner, repo):\n",
    "    #avoid rate limit\n",
    "    activities = users.apply(aggregate_user_activity, args=(commits, reviews, pull_requests), axis=1)\n",
    "    activities['owner'] = owner;\n",
    "    activities['repo'] = repo\n",
    "    return activities;\n",
    "\n",
    "activities = get_user_activity(contributor_data, commits, reviews, pull_requests, test_owner, test_repo)"
   ]
  }
 ],
 "metadata": {
  "language_info": {
   "name": "python"
  },
  "orig_nbformat": 4
 },
 "nbformat": 4,
 "nbformat_minor": 2
}
