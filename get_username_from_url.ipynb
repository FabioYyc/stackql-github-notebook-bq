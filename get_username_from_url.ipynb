{
 "cells": [
  {
   "cell_type": "code",
   "execution_count": null,
   "metadata": {},
   "outputs": [],
   "source": [
    "def get_username_from_url(url):\n",
    "    try:\n",
    "        if url != None and url != 'null' and len(url):\n",
    "            return url.split('/users/')[1]\n",
    "        return None\n",
    "    except:\n",
    "        print('get user name from url error with url %s', url)\n",
    "def get_username_from_column(list_data: list):\n",
    "    return list(map(lambda url: get_username_from_url(url), list_data));"
   ]
  }
 ],
 "metadata": {
  "language_info": {
   "name": "python"
  },
  "orig_nbformat": 4
 },
 "nbformat": 4,
 "nbformat_minor": 2
}
