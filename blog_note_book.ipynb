{
 "cells": [
  {
   "cell_type": "markdown",
   "metadata": {},
   "source": [
    "## Intro\n",
    "\n",
    "It is common to have a remote and dispersed team nowadays. Therefore, It is challenging to have a clear picture of where your team is.\n",
    "\n",
    "GitHub provides some handy data to help us understand the team's workload and progress.\n",
    "\n",
    "StackQL has an official GitHub provider. With ```pystackql```, we can use ```Jupyter Notebook``` to retrieve data from GitHub with SQL, drastically improving the code's readability.\n",
    "\n",
    "We can then store the data in a data warehouse solution to produce better analytics. Here our choice is ```BigQuery```."
   ]
  },
  {
   "cell_type": "markdown",
   "metadata": {},
   "source": [
    "## Set up the dependencies and configurations"
   ]
  },
  {
   "cell_type": "markdown",
   "metadata": {},
   "source": [
    "###  Assumption: \n",
    "1. you have downloaded stackql and is in your system path; Follow [this instruction to install](https://stackql.io/downloads)\n",
    "2. you have cloned [```pystackql```](https://github.com/stackql/pystackql) repo in the project directory\n",
    "3. you have created your GitHub Person Access Token and saved it as environment variable GITHUB_TOKEN"
   ]
  },
  {
   "cell_type": "code",
   "execution_count": 2,
   "metadata": {},
   "outputs": [],
   "source": [
    "# Import dependencies\n",
    "from pystackql import StackQL\n",
    "import json \n",
    "import os\n",
    "import pandas as pd\n",
    "import base64\n",
    "from IPython.display import display"
   ]
  },
  {
   "cell_type": "markdown",
   "metadata": {},
   "source": [
    "### Set up authentication"
   ]
  },
  {
   "cell_type": "code",
   "execution_count": 19,
   "metadata": {},
   "outputs": [],
   "source": [
    "github_token= 'your github token'\n",
    "\n",
    "## it needs to be base64 encoded\n",
    "github_creds = base64.b64encode(bytes(github_token, encoding='utf-8')).decode()\n",
    "os.environ['GITHUB_CREDS'] = github_creds\n",
    "auth = { \n",
    "    \"github\": \n",
    "      { \"type\": \"basic\", \"credentialsenvvar\": \"GITHUB_CREDS\" }\n",
    "}\n",
    "iql = StackQL(auth=json.dumps(auth))"
   ]
  },
  {
   "cell_type": "markdown",
   "metadata": {},
   "source": [
    "To make the script easy to duplicate in any environment, we will use pystackql to pull the newest version of github provider from registry"
   ]
  },
  {
   "cell_type": "code",
   "execution_count": 4,
   "metadata": {},
   "outputs": [],
   "source": [
    "## pull github registry\n",
    "registry_res = iql.execute('REGISTRY LIST;')\n",
    "registry_list = json.loads(registry_res)\n",
    "github_registry = list(filter(lambda reg: reg[\"provider\"] == 'github', registry_list))[0]\n",
    "github_version = github_registry['version']\n",
    "\n",
    "pull_provider_query = \"\"\"\n",
    "REGISTRY PULL github %s;\n",
    "\"\"\" % github_version\n",
    "\n",
    "res = iql.execute(pull_provider_query)\n"
   ]
  },
  {
   "cell_type": "markdown",
   "metadata": {},
   "source": [
    "## Using Github provider\n",
    "We will use [Intel open source DAOS project](https://github.com/daos-stack/daos) as example "
   ]
  },
  {
   "cell_type": "markdown",
   "metadata": {},
   "source": [
    "We will store the response in pandas dataframe"
   ]
  },
  {
   "cell_type": "code",
   "execution_count": 36,
   "metadata": {},
   "outputs": [],
   "source": [
    "def get_dataframe_from_query(query: str) -> pd.DataFrame :\n",
    "    res = iql.execute(query)\n",
    "    try: \n",
    "        res_obj = json.loads(res)\n",
    "        if \"error\" in res_obj:\n",
    "            raise AttributeError()\n",
    "        if not res_obj:\n",
    "            raise TypeError(res)\n",
    "        data = pd.DataFrame.from_dict(res_obj)\n",
    "        return data\n",
    "    except Exception as error:\n",
    "        if not isinstance(error, TypeError):\n",
    "            error.args = ('StackQL execute error with error: %s, res: %s, error type: %s, res type: %s' %(error, res, type(error), type(res)), *error.args)\n",
    "        raise error\n"
   ]
  },
  {
   "cell_type": "markdown",
   "metadata": {},
   "source": [
    "### Overview\n",
    "First lets look at what we can get from the Github provider"
   ]
  },
  {
   "cell_type": "code",
   "execution_count": 37,
   "metadata": {},
   "outputs": [
    {
     "name": "stdout",
     "output_type": "stream",
     "text": [
      "                                     id                     name\n",
      "0      github.repos.access_restrictions      access_restrictions\n",
      "1  github.repos.admin_branch_protection  admin_branch_protection\n",
      "2               github.repos.app_access               app_access\n",
      "3                github.repos.autolinks                autolinks\n",
      "4        github.repos.branch_protection        branch_protection\n"
     ]
    }
   ],
   "source": [
    "def show_resource():\n",
    "    query = 'show resources in github.repos'\n",
    "    data = get_dataframe_from_query(query)\n",
    "    print(data.head(5))\n",
    "\n",
    "show_resource()\n"
   ]
  },
  {
   "cell_type": "markdown",
   "metadata": {},
   "source": [
    "Find the complete list [here](https://registry.stackql.io/providers/github/)"
   ]
  },
  {
   "cell_type": "code",
   "execution_count": 1,
   "metadata": {},
   "outputs": [],
   "source": [
    "test_repo = 'daos'\n",
    "test_owner = 'daos-stack'"
   ]
  },
  {
   "cell_type": "markdown",
   "metadata": {},
   "source": [
    "We will need to extract the user name of commit author from url"
   ]
  },
  {
   "cell_type": "code",
   "execution_count": 12,
   "metadata": {},
   "outputs": [],
   "source": [
    "def get_username_from_url(url):\n",
    "    try:\n",
    "        if url != None and url != 'null' and len(url):\n",
    "            return url.split('/users/')[1]\n",
    "        return None\n",
    "    except:\n",
    "        print('get user name from url error with url %s', url)\n",
    "def get_username_from_column(list_data: list):\n",
    "    return list(map(lambda url: get_username_from_url(url), list_data));"
   ]
  },
  {
   "cell_type": "markdown",
   "metadata": {},
   "source": [
    "### Get the contributors of the repo"
   ]
  },
  {
   "cell_type": "code",
   "execution_count": 14,
   "metadata": {},
   "outputs": [
    {
     "name": "stdout",
     "output_type": "stream",
     "text": [
      "\n",
      "    SELECT name, email, id, type, url\n",
      "    FROM github.repos.contributors\n",
      "    where repo = 'daos' AND owner = 'daos-stack';\n",
      "    \n",
      "  email        id  name  type                                      url  \\\n",
      "0  null  10464486  null  User  https://api.github.com/users/jolivier23   \n",
      "\n",
      "     username  \n",
      "0  jolivier23  \n"
     ]
    }
   ],
   "source": [
    "### get the developers\n",
    "#github.repos.contributors\n",
    "def get_contributors_of_repo(repo, owner):\n",
    "    query = \"\"\"\n",
    "    SELECT name, email, id, type, url\n",
    "    FROM github.repos.contributors\n",
    "    where repo = '%s' AND owner = '%s';\n",
    "    \"\"\" % (repo, owner)\n",
    "    print(query)\n",
    "    data = get_dataframe_from_query(query)\n",
    "    return data\n",
    "contributor_data = get_contributors_of_repo(test_repo, test_owner)\n",
    "contributor_data['username'] = get_username_from_column(contributor_data['url'].to_list())"
   ]
  },
  {
   "cell_type": "markdown",
   "metadata": {},
   "source": [
    "### explore commit activity "
   ]
  },
  {
   "cell_type": "code",
   "execution_count": 38,
   "metadata": {},
   "outputs": [],
   "source": [
    "\n",
    "def get_commits(repo, owner) :\n",
    "    query = \"\"\"\n",
    "    SELECT \n",
    "    JSON_EXTRACT(commit, '$.message') as message, \n",
    "    sha, \n",
    "    JSON_EXTRACT(author, '$.url') as url,\n",
    "    JSON_EXTRACT(commit, '$.author.date') as commit_date\n",
    "    FROM github.repos.commits \n",
    "    where repo = '%s' AND owner = '%s';\n",
    "    \"\"\" % (repo, owner)\n",
    "    data = get_dataframe_from_query(query)\n",
    "    # commits_json = data['commit'].to_list()\n",
    "    # commits = list(map(lambda commit: json.loads(commit), commits_json)) \n",
    "    # data['commit'] = commits   \n",
    "    return data\n",
    "commits = get_commits(test_repo, test_owner)\n",
    "commits['username'] = get_username_from_column(commits['url'].to_list())\n",
    "\n",
    "\n"
   ]
  },
  {
   "cell_type": "code",
   "execution_count": 40,
   "metadata": {},
   "outputs": [
    {
     "data": {
      "text/html": [
       "<div>\n",
       "<style scoped>\n",
       "    .dataframe tbody tr th:only-of-type {\n",
       "        vertical-align: middle;\n",
       "    }\n",
       "\n",
       "    .dataframe tbody tr th {\n",
       "        vertical-align: top;\n",
       "    }\n",
       "\n",
       "    .dataframe thead th {\n",
       "        text-align: right;\n",
       "    }\n",
       "</style>\n",
       "<table border=\"1\" class=\"dataframe\">\n",
       "  <thead>\n",
       "    <tr style=\"text-align: right;\">\n",
       "      <th></th>\n",
       "      <th>commit_date</th>\n",
       "      <th>message</th>\n",
       "      <th>sha</th>\n",
       "      <th>url</th>\n",
       "      <th>username</th>\n",
       "    </tr>\n",
       "  </thead>\n",
       "  <tbody>\n",
       "    <tr>\n",
       "      <th>0</th>\n",
       "      <td>2022-07-21T20:16:56Z</td>\n",
       "      <td>DAOS-11155 test: Increase pool size for contai...</td>\n",
       "      <td>f8be4316cf58c90abc409027eb52dc0e852d24c9</td>\n",
       "      <td>https://api.github.com/users/shimizukko</td>\n",
       "      <td>shimizukko</td>\n",
       "    </tr>\n",
       "  </tbody>\n",
       "</table>\n",
       "</div>"
      ],
      "text/plain": [
       "            commit_date                                            message  \\\n",
       "0  2022-07-21T20:16:56Z  DAOS-11155 test: Increase pool size for contai...   \n",
       "\n",
       "                                        sha  \\\n",
       "0  f8be4316cf58c90abc409027eb52dc0e852d24c9   \n",
       "\n",
       "                                       url    username  \n",
       "0  https://api.github.com/users/shimizukko  shimizukko  "
      ]
     },
     "metadata": {},
     "output_type": "display_data"
    }
   ],
   "source": [
    "display(commits.head(1))"
   ]
  },
  {
   "cell_type": "markdown",
   "metadata": {},
   "source": [
    "### Other interesting resources in the repo that can reveal developer's activity"
   ]
  },
  {
   "cell_type": "code",
   "execution_count": 41,
   "metadata": {},
   "outputs": [
    {
     "data": {
      "text/html": [
       "<div>\n",
       "<style scoped>\n",
       "    .dataframe tbody tr th:only-of-type {\n",
       "        vertical-align: middle;\n",
       "    }\n",
       "\n",
       "    .dataframe tbody tr th {\n",
       "        vertical-align: top;\n",
       "    }\n",
       "\n",
       "    .dataframe thead th {\n",
       "        text-align: right;\n",
       "    }\n",
       "</style>\n",
       "<table border=\"1\" class=\"dataframe\">\n",
       "  <thead>\n",
       "    <tr style=\"text-align: right;\">\n",
       "      <th></th>\n",
       "      <th>assignee_url</th>\n",
       "      <th>pull_number</th>\n",
       "      <th>state</th>\n",
       "      <th>updated_at</th>\n",
       "      <th>user_url</th>\n",
       "      <th>assignee_username</th>\n",
       "      <th>username</th>\n",
       "    </tr>\n",
       "  </thead>\n",
       "  <tbody>\n",
       "    <tr>\n",
       "      <th>0</th>\n",
       "      <td>null</td>\n",
       "      <td>9777</td>\n",
       "      <td>open</td>\n",
       "      <td>2022-07-21T20:42:03Z</td>\n",
       "      <td>https://api.github.com/users/phender</td>\n",
       "      <td>None</td>\n",
       "      <td>phender</td>\n",
       "    </tr>\n",
       "  </tbody>\n",
       "</table>\n",
       "</div>"
      ],
      "text/plain": [
       "  assignee_url pull_number state            updated_at  \\\n",
       "0         null        9777  open  2022-07-21T20:42:03Z   \n",
       "\n",
       "                               user_url assignee_username username  \n",
       "0  https://api.github.com/users/phender              None  phender  "
      ]
     },
     "metadata": {},
     "output_type": "display_data"
    }
   ],
   "source": [
    "def get_pull_requests(repo, owner):\n",
    "    #github.pulls.pull_requests\n",
    "    query = \"\"\"\n",
    "    SELECT \n",
    "    number as pull_number, \n",
    "    JSON_EXTRACT(assignee, '$.url') as assignee_url, \n",
    "    JSON_EXTRACT(user, '$.url') as user_url, \n",
    "    state,\n",
    "    updated_at\n",
    "    FROM github.pulls.pull_requests\n",
    "    where repo = '%s' AND owner = '%s'\n",
    "    \"\"\" % (repo, owner)\n",
    "    pull_requests = get_dataframe_from_query(query)\n",
    "    pull_requests['assignee_username'] =get_username_from_column(pull_requests['assignee_url'].to_list())\n",
    "    pull_requests['username'] =get_username_from_column(pull_requests['user_url'].to_list())\n",
    "    return pull_requests;\n",
    "pull_requests = get_pull_requests(test_repo, test_owner)\n",
    "display(pull_requests.head(1))\n"
   ]
  },
  {
   "cell_type": "markdown",
   "metadata": {},
   "source": [
    "Get review from a single pull request"
   ]
  },
  {
   "cell_type": "code",
   "execution_count": 46,
   "metadata": {},
   "outputs": [],
   "source": [
    "\n",
    "def get_pull_request_reviews(pull_number, repo, owner):\n",
    "    #github.pulls.reviews\n",
    "    query = \"\"\"\n",
    "    SELECT JSON_EXTRACT(user, '$.url') as user_url, state, body, submitted_at\n",
    "    FROM github.pulls.reviews\n",
    "    where repo = '%s' AND owner = '%s' AND pull_number = %s\n",
    "    \"\"\" % (repo, owner, pull_number)\n",
    "    try:\n",
    "        pull_requests_reviews = get_dataframe_from_query(query)\n",
    "        pull_requests_reviews['username'] =get_username_from_column(pull_requests_reviews['user_url'].to_list())\n",
    "        return pull_requests_reviews;\n",
    "    except(TypeError):\n",
    "        raise TypeError        \n"
   ]
  },
  {
   "cell_type": "code",
   "execution_count": 47,
   "metadata": {},
   "outputs": [
    {
     "data": {
      "text/html": [
       "<div>\n",
       "<style scoped>\n",
       "    .dataframe tbody tr th:only-of-type {\n",
       "        vertical-align: middle;\n",
       "    }\n",
       "\n",
       "    .dataframe tbody tr th {\n",
       "        vertical-align: top;\n",
       "    }\n",
       "\n",
       "    .dataframe thead th {\n",
       "        text-align: right;\n",
       "    }\n",
       "</style>\n",
       "<table border=\"1\" class=\"dataframe\">\n",
       "  <thead>\n",
       "    <tr style=\"text-align: right;\">\n",
       "      <th></th>\n",
       "      <th>body</th>\n",
       "      <th>state</th>\n",
       "      <th>submitted_at</th>\n",
       "      <th>user_url</th>\n",
       "      <th>username</th>\n",
       "    </tr>\n",
       "  </thead>\n",
       "  <tbody>\n",
       "    <tr>\n",
       "      <th>0</th>\n",
       "      <td>LGTM.  No errors found by checkpatch.</td>\n",
       "      <td>COMMENTED</td>\n",
       "      <td>2022-07-11T11:56:15Z</td>\n",
       "      <td>https://api.github.com/users/daosbuild1</td>\n",
       "      <td>daosbuild1</td>\n",
       "    </tr>\n",
       "  </tbody>\n",
       "</table>\n",
       "</div>"
      ],
      "text/plain": [
       "                                    body      state          submitted_at  \\\n",
       "0  LGTM.  No errors found by checkpatch.  COMMENTED  2022-07-11T11:56:15Z   \n",
       "\n",
       "                                  user_url    username  \n",
       "0  https://api.github.com/users/daosbuild1  daosbuild1  "
      ]
     },
     "metadata": {},
     "output_type": "display_data"
    }
   ],
   "source": [
    "display(get_pull_request_reviews(9656, test_repo, test_owner).head(1))"
   ]
  },
  {
   "cell_type": "code",
   "execution_count": 48,
   "metadata": {},
   "outputs": [
    {
     "name": "stdout",
     "output_type": "stream",
     "text": [
      "getting reviews for pull number 9777\n",
      "getting reviews for pull number 9775\n",
      "getting reviews for pull number 9773\n",
      "getting reviews for pull number 9772\n",
      "getting reviews for pull number 9771\n",
      "getting reviews for pull number 9770\n",
      "getting reviews for pull number 9769\n",
      "getting reviews for pull number 9768\n",
      "getting reviews for pull number 9767\n",
      "getting reviews for pull number 9766\n",
      "\n",
      "getting reviews for pull number 9764\n",
      "getting reviews for pull number 9763\n",
      "getting reviews for pull number 9762\n",
      "getting reviews for pull number 9761\n",
      "getting reviews for pull number 9760\n",
      "getting reviews for pull number 9757\n",
      "\n",
      "getting reviews for pull number 9755\n",
      "getting reviews for pull number 9754\n",
      "getting reviews for pull number 9752\n",
      "getting reviews for pull number 9746\n",
      "getting reviews for pull number 9745\n",
      "\n",
      "getting reviews for pull number 9744\n",
      "getting reviews for pull number 9743\n",
      "getting reviews for pull number 9742\n",
      "getting reviews for pull number 9741\n",
      "getting reviews for pull number 9740\n",
      "getting reviews for pull number 9739\n",
      "getting reviews for pull number 9737\n",
      "getting reviews for pull number 9729\n",
      "getting reviews for pull number 9728\n",
      "getting reviews for pull number 9726\n",
      "\n",
      "getting reviews for pull number 9725\n",
      "getting reviews for pull number 9722\n",
      "\n",
      "getting reviews for pull number 9716\n",
      "getting reviews for pull number 9714\n",
      "getting reviews for pull number 9703\n",
      "getting reviews for pull number 9702\n",
      "getting reviews for pull number 9700\n",
      "getting reviews for pull number 9698\n",
      "\n",
      "getting reviews for pull number 9697\n",
      "getting reviews for pull number 9695\n",
      "getting reviews for pull number 9694\n",
      "\n",
      "getting reviews for pull number 9691\n",
      "getting reviews for pull number 9689\n",
      "getting reviews for pull number 9688\n",
      "getting reviews for pull number 9685\n",
      "getting reviews for pull number 9682\n",
      "getting reviews for pull number 9681\n",
      "getting reviews for pull number 9680\n",
      "getting reviews for pull number 9679\n",
      "getting reviews for pull number 9678\n",
      "getting reviews for pull number 9675\n",
      "getting reviews for pull number 9674\n",
      "getting reviews for pull number 9669\n",
      "getting reviews for pull number 9668\n",
      "getting reviews for pull number 9667\n",
      "getting reviews for pull number 9664\n",
      "getting reviews for pull number 9663\n",
      "\n",
      "getting reviews for pull number 9655\n",
      "getting reviews for pull number 9652\n",
      "getting reviews for pull number 9651\n",
      "getting reviews for pull number 9647\n",
      "getting reviews for pull number 9642\n",
      "getting reviews for pull number 9640\n",
      "getting reviews for pull number 9637\n",
      "\n",
      "getting reviews for pull number 9634\n",
      "getting reviews for pull number 9633\n",
      "getting reviews for pull number 9631\n",
      "getting reviews for pull number 9629\n",
      "getting reviews for pull number 9612\n",
      "getting reviews for pull number 9611\n",
      "getting reviews for pull number 9606\n",
      "getting reviews for pull number 9597\n",
      "getting reviews for pull number 9590\n",
      "getting reviews for pull number 9578\n",
      "getting reviews for pull number 9565\n",
      "getting reviews for pull number 9558\n",
      "getting reviews for pull number 9557\n",
      "getting reviews for pull number 9556\n",
      "getting reviews for pull number 9555\n",
      "getting reviews for pull number 9553\n",
      "getting reviews for pull number 9548\n",
      "getting reviews for pull number 9544\n",
      "getting reviews for pull number 9541\n",
      "getting reviews for pull number 9540\n",
      "getting reviews for pull number 9537\n",
      "getting reviews for pull number 9532\n",
      "getting reviews for pull number 9528\n",
      "getting reviews for pull number 9522\n",
      "getting reviews for pull number 9521\n",
      "\n",
      "getting reviews for pull number 9520\n",
      "getting reviews for pull number 9516\n",
      "getting reviews for pull number 9509\n",
      "getting reviews for pull number 9501\n",
      "\n",
      "getting reviews for pull number 9500\n",
      "getting reviews for pull number 9488\n",
      "getting reviews for pull number 9482\n",
      "getting reviews for pull number 9480\n",
      "getting reviews for pull number 9470\n",
      "getting reviews for pull number 9469\n",
      "\n"
     ]
    }
   ],
   "source": [
    "def get_reviews_for_pull_requests(pull_numbers: list, repo, owner, limit=100):\n",
    "    ##loop pull requests data\n",
    "    reviews_frames = []\n",
    "    pull_numbers = pull_numbers[0:limit]\n",
    "    for pull_number in pull_numbers:\n",
    "        try:\n",
    "            print('getting reviews for pull number %s' % pull_number)\n",
    "            reviews = get_pull_request_reviews(pull_number, repo, owner)\n",
    "            if reviews is not None and not reviews.empty:\n",
    "                reviews_frames.append(reviews)\n",
    "        except Exception as error:\n",
    "            print(error)\n",
    "            if isinstance(error, TypeError):\n",
    "                continue\n",
    "            else:\n",
    "                return;\n",
    "            \n",
    "    return pd.concat(reviews_frames);\n",
    "\n",
    "reviews_data = get_reviews_for_pull_requests(pull_requests['pull_number'].to_list(), test_repo, test_owner, limit=100)\n"
   ]
  },
  {
   "cell_type": "code",
   "execution_count": 50,
   "metadata": {},
   "outputs": [
    {
     "data": {
      "text/html": [
       "<div>\n",
       "<style scoped>\n",
       "    .dataframe tbody tr th:only-of-type {\n",
       "        vertical-align: middle;\n",
       "    }\n",
       "\n",
       "    .dataframe tbody tr th {\n",
       "        vertical-align: top;\n",
       "    }\n",
       "\n",
       "    .dataframe thead th {\n",
       "        text-align: right;\n",
       "    }\n",
       "</style>\n",
       "<table border=\"1\" class=\"dataframe\">\n",
       "  <thead>\n",
       "    <tr style=\"text-align: right;\">\n",
       "      <th></th>\n",
       "      <th>body</th>\n",
       "      <th>state</th>\n",
       "      <th>submitted_at</th>\n",
       "      <th>user_url</th>\n",
       "      <th>username</th>\n",
       "    </tr>\n",
       "  </thead>\n",
       "  <tbody>\n",
       "    <tr>\n",
       "      <th>0</th>\n",
       "      <td>Style warning(s) for job https://build.hpdd.in...</td>\n",
       "      <td>CHANGES_REQUESTED</td>\n",
       "      <td>2022-07-21T20:36:16Z</td>\n",
       "      <td>https://api.github.com/users/daosbuild1</td>\n",
       "      <td>daosbuild1</td>\n",
       "    </tr>\n",
       "    <tr>\n",
       "      <th>0</th>\n",
       "      <td>LGTM.  No errors found by checkpatch.</td>\n",
       "      <td>COMMENTED</td>\n",
       "      <td>2022-07-21T14:34:52Z</td>\n",
       "      <td>https://api.github.com/users/daosbuild1</td>\n",
       "      <td>daosbuild1</td>\n",
       "    </tr>\n",
       "    <tr>\n",
       "      <th>0</th>\n",
       "      <td>LGTM.  No errors found by checkpatch.</td>\n",
       "      <td>COMMENTED</td>\n",
       "      <td>2022-07-21T11:26:37Z</td>\n",
       "      <td>https://api.github.com/users/daosbuild1</td>\n",
       "      <td>daosbuild1</td>\n",
       "    </tr>\n",
       "    <tr>\n",
       "      <th>1</th>\n",
       "      <td></td>\n",
       "      <td>APPROVED</td>\n",
       "      <td>2022-07-21T15:48:29Z</td>\n",
       "      <td>https://api.github.com/users/daltonbohning</td>\n",
       "      <td>daltonbohning</td>\n",
       "    </tr>\n",
       "    <tr>\n",
       "      <th>0</th>\n",
       "      <td>Style warning(s) for job https://build.hpdd.in...</td>\n",
       "      <td>DISMISSED</td>\n",
       "      <td>2022-07-21T09:56:30Z</td>\n",
       "      <td>https://api.github.com/users/daosbuild1</td>\n",
       "      <td>daosbuild1</td>\n",
       "    </tr>\n",
       "  </tbody>\n",
       "</table>\n",
       "</div>"
      ],
      "text/plain": [
       "                                                body              state  \\\n",
       "0  Style warning(s) for job https://build.hpdd.in...  CHANGES_REQUESTED   \n",
       "0              LGTM.  No errors found by checkpatch.          COMMENTED   \n",
       "0              LGTM.  No errors found by checkpatch.          COMMENTED   \n",
       "1                                                              APPROVED   \n",
       "0  Style warning(s) for job https://build.hpdd.in...          DISMISSED   \n",
       "\n",
       "           submitted_at                                    user_url  \\\n",
       "0  2022-07-21T20:36:16Z     https://api.github.com/users/daosbuild1   \n",
       "0  2022-07-21T14:34:52Z     https://api.github.com/users/daosbuild1   \n",
       "0  2022-07-21T11:26:37Z     https://api.github.com/users/daosbuild1   \n",
       "1  2022-07-21T15:48:29Z  https://api.github.com/users/daltonbohning   \n",
       "0  2022-07-21T09:56:30Z     https://api.github.com/users/daosbuild1   \n",
       "\n",
       "        username  \n",
       "0     daosbuild1  \n",
       "0     daosbuild1  \n",
       "0     daosbuild1  \n",
       "1  daltonbohning  \n",
       "0     daosbuild1  "
      ]
     },
     "metadata": {},
     "output_type": "display_data"
    }
   ],
   "source": [
    "reviews = reviews_data.copy()\n",
    "reviews['username'] = get_username_from_column(reviews['user_url'].to_list())\n",
    "display(reviews.head(5))"
   ]
  },
  {
   "cell_type": "markdown",
   "metadata": {},
   "source": [
    "## Aggregate the activities by contributor\n",
    "Note: to improve the database efficiency, here we choose to de-normalize the data and nest them together"
   ]
  },
  {
   "cell_type": "code",
   "execution_count": 64,
   "metadata": {},
   "outputs": [],
   "source": [
    "def aggregate_user_activity (row, commits: pd.DataFrame,  reviews: pd.DataFrame, pull_requests: pd.DataFrame):\n",
    "    username = row['username']\n",
    "    row['commits'] = commits[commits['username'] == username]\n",
    "    row['pull_requests'] = pull_requests[pull_requests['username'] == username]\n",
    "    row['reviews'] = reviews[reviews['username'] == username]\n",
    "    return row\n",
    "\n",
    "def get_user_activity(users: pd.DataFrame, commits: pd.DataFrame,  reviews: pd.DataFrame, pull_requests: pd.DataFrame, owner, repo):\n",
    "    #avoid rate limit\n",
    "    activities = users.apply(aggregate_user_activity, args=(commits, reviews, pull_requests), axis=1)\n",
    "    activities['owner'] = owner;\n",
    "    activities['repo'] = repo\n",
    "    return activities;\n",
    "\n",
    "activities = get_user_activity(contributor_data, commits, reviews, pull_requests, test_owner, test_repo)"
   ]
  },
  {
   "cell_type": "code",
   "execution_count": 54,
   "metadata": {},
   "outputs": [
    {
     "data": {
      "text/plain": [
       "Index(['email', 'id', 'name', 'type', 'url', 'username', 'commits',\n",
       "       'pull_requests', 'reviews', 'owner', 'repo'],\n",
       "      dtype='object')"
      ]
     },
     "metadata": {},
     "output_type": "display_data"
    }
   ],
   "source": [
    "display(activities.head(1).columns)"
   ]
  },
  {
   "cell_type": "markdown",
   "metadata": {},
   "source": [
    "### Save the dataframe as a json file\n",
    "Uploading pandas dataframe to BigQuery directly is a bit of headache, so lets save the data retrieved as JSON file first"
   ]
  },
  {
   "cell_type": "code",
   "execution_count": 65,
   "metadata": {},
   "outputs": [],
   "source": [
    "activities.to_json('user-activities.json', orient='records', lines=True) ##save as new line delimited json"
   ]
  },
  {
   "cell_type": "markdown",
   "metadata": {},
   "source": [
    "# Upload data to Google BigQuery\n",
    "First, Create and download a key file follow this [link](https://cloud.google.com/docs/authentication/getting-started) "
   ]
  },
  {
   "cell_type": "code",
   "execution_count": 61,
   "metadata": {},
   "outputs": [],
   "source": []
  },
  {
   "cell_type": "code",
   "execution_count": 60,
   "metadata": {},
   "outputs": [],
   "source": []
  },
  {
   "cell_type": "code",
   "execution_count": 67,
   "metadata": {},
   "outputs": [],
   "source": [
    "from google.cloud import bigquery\n",
    "\n",
    "PROJECT='storyscore-356114' #replace with your project id\n",
    "os.environ['GOOGLE_APPLICATION_CREDENTIALS'] = 'service-key.json' ##replace it with path to your key file\n",
    "\n",
    "\n",
    "def get_table_ref(client: bigquery.Client, dataset_id, table_id):\n",
    "    dataset_ref = client.dataset(dataset_id)\n",
    "    table_ref = dataset_ref.table(table_id)\n",
    "    return table_ref\n",
    "\n",
    "\n",
    "def create_load_job_config(job_type='WRITE_TRUNCATE'):\n",
    "    return bigquery.LoadJobConfig(\n",
    "    write_disposition=job_type,\n",
    "    source_format=bigquery.SourceFormat.NEWLINE_DELIMITED_JSON,\n",
    "    autodetect=True\n",
    "    )\n",
    "\n",
    "def upload_json(filename: str, dataset_id: str, table_id: str, config):\n",
    "    print('uploading table: %s'%(table_id))\n",
    "    client = bigquery.Client(project=PROJECT)\n",
    "    table_ref = get_table_ref(client, dataset_id, table_id)\n",
    "    with open(filename, \"rb\") as source_file:\n",
    "        job = client.load_table_from_file(\n",
    "            source_file, table_ref, job_config=config\n",
    "        )  # Make an API request.\n",
    "        job.result()  # Wait for the job to complete.;\n",
    "    table = client.get_table(table_ref)  # Make an API request.\n",
    "    print(\n",
    "        \"Loaded {} rows and {} columns to {}\".format(\n",
    "            table.num_rows, len(table.schema), table_id\n",
    "        )\n",
    "    )\n",
    "\n",
    "def upload_user_activity(filename: str):\n",
    "    dataset = 'github_user_activity'\n",
    "    table_name = 'user_activity'\n",
    "    config = create_load_job_config()\n",
    "    upload_json(filename=filename, dataset_id=dataset, table_id=table_name, config= config)\n",
    "    return\n"
   ]
  },
  {
   "cell_type": "code",
   "execution_count": 68,
   "metadata": {},
   "outputs": [
    {
     "name": "stdout",
     "output_type": "stream",
     "text": [
      "uploading table: user_activity\n",
      "Loaded 85 rows and 11 columns to user_activity\n"
     ]
    }
   ],
   "source": [
    "upload_user_activity('./user-activities.json')"
   ]
  },
  {
   "cell_type": "markdown",
   "metadata": {},
   "source": [
    "### Check the table in BigQuery\n",
    "Image 1"
   ]
  },
  {
   "cell_type": "markdown",
   "metadata": {},
   "source": [
    "Number of pull requests by each contributor:\n",
    "image 2"
   ]
  }
 ],
 "metadata": {
  "interpreter": {
   "hash": "5eebb536a5ca28300091dc599be745b2f40a81d058ac41207a1903431999abf8"
  },
  "kernelspec": {
   "display_name": "Python 3.8.9 ('venv': venv)",
   "language": "python",
   "name": "python3"
  },
  "language_info": {
   "codemirror_mode": {
    "name": "ipython",
    "version": 3
   },
   "file_extension": ".py",
   "mimetype": "text/x-python",
   "name": "python",
   "nbconvert_exporter": "python",
   "pygments_lexer": "ipython3",
   "version": "3.8.9"
  },
  "orig_nbformat": 4
 },
 "nbformat": 4,
 "nbformat_minor": 2
}
